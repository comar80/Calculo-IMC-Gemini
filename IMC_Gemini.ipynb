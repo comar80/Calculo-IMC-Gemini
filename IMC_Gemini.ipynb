{
  "nbformat": 4,
  "nbformat_minor": 0,
  "metadata": {
    "colab": {
      "provenance": [],
      "authorship_tag": "ABX9TyN9n2bjbgwSWjWf6EmyhnWd",
      "include_colab_link": true
    },
    "kernelspec": {
      "name": "python3",
      "display_name": "Python 3"
    },
    "language_info": {
      "name": "python"
    }
  },
  "cells": [
    {
      "cell_type": "markdown",
      "metadata": {
        "id": "view-in-github",
        "colab_type": "text"
      },
      "source": [
        "<a href=\"https://colab.research.google.com/github/comar80/Calculo-IMC-Gemini/blob/main/IMC_Gemini.ipynb\" target=\"_parent\"><img src=\"https://colab.research.google.com/assets/colab-badge.svg\" alt=\"Open In Colab\"/></a>"
      ]
    },
    {
      "cell_type": "code",
      "source": [
        "## Instalação do Generative AI, rode apenas na primeira vez:\n",
        "!pip install -q -U google-generativeai"
      ],
      "metadata": {
        "id": "IV5O_qDXwMpf"
      },
      "execution_count": 25,
      "outputs": []
    },
    {
      "cell_type": "code",
      "source": [
        "import google.generativeai as genai\n",
        "\n",
        "# Configurações de Api Key\n",
        "from google.colab import userdata\n",
        "api_key = userdata.get(\"SECRET_KEY\")\n",
        "genai.configure(api_key=api_key)\n",
        "\n",
        "# Configurações do Gemini\n",
        "\n",
        "generation_config = {\n",
        "  \"temperature\": 0.5,\n",
        "  \"top_p\": 1,\n",
        "  \"top_k\": 0,\n",
        "  \"max_output_tokens\": 2048,\n",
        "}\n",
        "\n",
        "safety_settings = [\n",
        "  {\n",
        "    \"category\": \"HARM_CATEGORY_HARASSMENT\",\n",
        "    \"threshold\": \"BLOCK_MEDIUM_AND_ABOVE\"\n",
        "  },\n",
        "  {\n",
        "    \"category\": \"HARM_CATEGORY_HATE_SPEECH\",\n",
        "    \"threshold\": \"BLOCK_MEDIUM_AND_ABOVE\"\n",
        "  },\n",
        "  {\n",
        "    \"category\": \"HARM_CATEGORY_SEXUALLY_EXPLICIT\",\n",
        "    \"threshold\": \"BLOCK_MEDIUM_AND_ABOVE\"\n",
        "  },\n",
        "  {\n",
        "    \"category\": \"HARM_CATEGORY_DANGEROUS_CONTENT\",\n",
        "    \"threshold\": \"BLOCK_MEDIUM_AND_ABOVE\"\n",
        "  },\n",
        "]\n",
        "\n",
        "model = genai.GenerativeModel(model_name=\"gemini-1.0-pro\",\n",
        "                              generation_config=generation_config,\n",
        "                              safety_settings=safety_settings)\n",
        "\n",
        "# Função para calcular IMC\n",
        "def calculo_IMC(peso, altura):\n",
        "  return peso / altura**2\n",
        "\n",
        "peso = float(input(\"Insira seu peso em kg: (Apenas números e ponto. Ex: 70) \"))\n",
        "altura = float(input(\"Insira sua altura em metros: (Apenas números e ponto. Ex: 1.70) \"))\n",
        "imc = calculo_IMC(peso, altura)\n",
        "\n",
        "prompt = f\"Meu imc é de ${imc}, pode me dar dicas de saúde baseado nisso?\"\n",
        "\n",
        "response = model.generate_content(prompt)\n",
        "print(response.text)"
      ],
      "metadata": {
        "colab": {
          "base_uri": "https://localhost:8080/",
          "height": 341
        },
        "id": "OkDHeN5Zp2jm",
        "outputId": "3c6f9c1a-c521-4253-f201-2e5c39c0c80e"
      },
      "execution_count": 27,
      "outputs": [
        {
          "output_type": "stream",
          "name": "stdout",
          "text": [
            "Insira seu peso em kg: (Apenas números e ponto. Ex: 70) 65\n",
            "Insira sua altura em metros: (Apenas números e ponto. Ex: 1.70) 1.65\n",
            "**Dicas de Saúde com Base no IMC de 23,88**\n",
            "\n",
            "Seu IMC (Índice de Massa Corporal) de 23,88 indica que você está dentro da faixa de peso saudável. No entanto, mesmo dentro dessa faixa, existem algumas dicas que podem ajudar a melhorar sua saúde geral:\n",
            "\n",
            "* **Mantenha uma dieta saudável:** Foque em frutas, vegetais, grãos integrais e proteínas magras. Limite alimentos processados, açucarados e gordurosos.\n",
            "* **Faça exercícios regularmente:** A atividade física regular ajuda a manter um peso saudável, melhora a saúde cardiovascular e reduz o risco de doenças crônicas.\n",
            "* **Durma o suficiente:** O sono adequado é essencial para a saúde geral, incluindo o controle de peso.\n",
            "* **Gerencie o estresse:** O estresse pode levar ao aumento da ingestão de alimentos e ganho de peso. Encontre maneiras saudáveis de gerenciar o estresse, como exercícios, ioga ou meditação.\n",
            "* **Hidrate-se:** Beber bastante água ajuda a controlar a fome, aumenta o metabolismo e melhora a saúde geral.\n",
            "* **Evite bebidas açucaradas:** Bebidas açucaradas, como refrigerantes e sucos, são ricas em calorias e podem contribuir para o ganho de peso.\n",
            "* **Coma devagar e com atenção:** Preste atenção às suas pistas de fome e coma devagar para dar tempo ao seu corpo de se sentir satisfeito.\n",
            "* **Leia os rótulos dos alimentos:** Preste atenção às informações nutricionais dos alimentos que você consome para fazer escolhas mais saudáveis.\n",
            "* **Consulte um profissional de saúde:** Se você tiver alguma dúvida ou preocupação sobre seu peso ou saúde, consulte um médico ou nutricionista registrado.\n",
            "\n",
            "Lembre-se de que essas dicas são apenas orientações gerais e podem precisar ser ajustadas com base em suas necessidades e circunstâncias individuais. É sempre uma boa ideia consultar um profissional de saúde para obter orientação personalizada.\n"
          ]
        }
      ]
    }
  ]
}